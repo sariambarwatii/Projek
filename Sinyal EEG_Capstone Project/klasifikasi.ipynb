{
 "cells": [
  {
   "cell_type": "markdown",
   "id": "55ef8857",
   "metadata": {},
   "source": [
    "# **1. Import Library**"
   ]
  },
  {
   "cell_type": "code",
   "execution_count": 2,
   "id": "d505770c",
   "metadata": {},
   "outputs": [],
   "source": [
    "import pandas as pd\n",
    "import seaborn as sns\n",
    "from sklearn.utils import resample\n",
    "from sklearn.model_selection import train_test_split\n",
    "import matplotlib.pyplot as plt\n",
    "from sklearn.tree import DecisionTreeClassifier\n",
    "from sklearn.metrics import confusion_matrix, classification_report\n",
    "from sklearn.metrics import accuracy_score\n",
    "from sklearn.ensemble import RandomForestClassifier\n",
    "from xgboost import XGBClassifier\n",
    "from sklearn.metrics import roc_curve, roc_auc_score\n",
    "from sklearn.ensemble import RandomForestClassifier"
   ]
  },
  {
   "cell_type": "markdown",
   "id": "197b6596",
   "metadata": {},
   "source": [
    "# **2. Load Dataset**"
   ]
  },
  {
   "cell_type": "code",
   "execution_count": 3,
   "id": "1b1c678d",
   "metadata": {},
   "outputs": [
    {
     "data": {
      "text/html": [
       "<div>\n",
       "<style scoped>\n",
       "    .dataframe tbody tr th:only-of-type {\n",
       "        vertical-align: middle;\n",
       "    }\n",
       "\n",
       "    .dataframe tbody tr th {\n",
       "        vertical-align: top;\n",
       "    }\n",
       "\n",
       "    .dataframe thead th {\n",
       "        text-align: right;\n",
       "    }\n",
       "</style>\n",
       "<table border=\"1\" class=\"dataframe\">\n",
       "  <thead>\n",
       "    <tr style=\"text-align: right;\">\n",
       "      <th></th>\n",
       "      <th>mean</th>\n",
       "      <th>std</th>\n",
       "      <th>var</th>\n",
       "      <th>rms</th>\n",
       "      <th>skewness</th>\n",
       "      <th>kurtosis</th>\n",
       "      <th>delta</th>\n",
       "      <th>theta</th>\n",
       "      <th>alpha</th>\n",
       "      <th>beta</th>\n",
       "      <th>...</th>\n",
       "      <th>rms_FC6</th>\n",
       "      <th>skewness_FC6</th>\n",
       "      <th>kurtosis_FC6</th>\n",
       "      <th>entropy_FC6</th>\n",
       "      <th>delta_FC6</th>\n",
       "      <th>theta_FC6</th>\n",
       "      <th>alpha_FC6</th>\n",
       "      <th>beta_FC6</th>\n",
       "      <th>gamma_FC6</th>\n",
       "      <th>outcome</th>\n",
       "    </tr>\n",
       "  </thead>\n",
       "  <tbody>\n",
       "    <tr>\n",
       "      <th>0</th>\n",
       "      <td>1526.994216</td>\n",
       "      <td>6.334173</td>\n",
       "      <td>40.121743</td>\n",
       "      <td>1527.007353</td>\n",
       "      <td>1.532286</td>\n",
       "      <td>6.735099</td>\n",
       "      <td>0.000005</td>\n",
       "      <td>2.700000e-07</td>\n",
       "      <td>0.000013</td>\n",
       "      <td>0.010343</td>\n",
       "      <td>...</td>\n",
       "      <td>1694.527310</td>\n",
       "      <td>-0.133614</td>\n",
       "      <td>0.268617</td>\n",
       "      <td>0.789</td>\n",
       "      <td>0.000021</td>\n",
       "      <td>1.510000e-06</td>\n",
       "      <td>0.000118</td>\n",
       "      <td>0.060236</td>\n",
       "      <td>2.185175</td>\n",
       "      <td>0</td>\n",
       "    </tr>\n",
       "    <tr>\n",
       "      <th>1</th>\n",
       "      <td>1522.273291</td>\n",
       "      <td>13.901473</td>\n",
       "      <td>193.250963</td>\n",
       "      <td>1522.336764</td>\n",
       "      <td>-3.194118</td>\n",
       "      <td>16.434917</td>\n",
       "      <td>0.000013</td>\n",
       "      <td>8.120000e-07</td>\n",
       "      <td>0.000034</td>\n",
       "      <td>0.017279</td>\n",
       "      <td>...</td>\n",
       "      <td>1694.188665</td>\n",
       "      <td>-1.007230</td>\n",
       "      <td>3.254657</td>\n",
       "      <td>0.708</td>\n",
       "      <td>0.000018</td>\n",
       "      <td>2.520000e-06</td>\n",
       "      <td>0.000111</td>\n",
       "      <td>0.064383</td>\n",
       "      <td>1.610859</td>\n",
       "      <td>0</td>\n",
       "    </tr>\n",
       "    <tr>\n",
       "      <th>2</th>\n",
       "      <td>1525.568576</td>\n",
       "      <td>6.765647</td>\n",
       "      <td>45.773985</td>\n",
       "      <td>1525.583578</td>\n",
       "      <td>0.213206</td>\n",
       "      <td>0.796216</td>\n",
       "      <td>0.000011</td>\n",
       "      <td>3.240000e-07</td>\n",
       "      <td>0.000020</td>\n",
       "      <td>0.012457</td>\n",
       "      <td>...</td>\n",
       "      <td>1695.329671</td>\n",
       "      <td>0.314247</td>\n",
       "      <td>1.788882</td>\n",
       "      <td>0.746</td>\n",
       "      <td>0.000048</td>\n",
       "      <td>3.390000e-06</td>\n",
       "      <td>0.000213</td>\n",
       "      <td>0.123379</td>\n",
       "      <td>2.460791</td>\n",
       "      <td>0</td>\n",
       "    </tr>\n",
       "    <tr>\n",
       "      <th>3</th>\n",
       "      <td>1526.060395</td>\n",
       "      <td>5.801412</td>\n",
       "      <td>33.656377</td>\n",
       "      <td>1526.071422</td>\n",
       "      <td>-0.000402</td>\n",
       "      <td>0.279051</td>\n",
       "      <td>0.000003</td>\n",
       "      <td>2.500000e-07</td>\n",
       "      <td>0.000017</td>\n",
       "      <td>0.010295</td>\n",
       "      <td>...</td>\n",
       "      <td>1704.352349</td>\n",
       "      <td>0.074694</td>\n",
       "      <td>1.250499</td>\n",
       "      <td>0.786</td>\n",
       "      <td>0.000022</td>\n",
       "      <td>3.240000e-06</td>\n",
       "      <td>0.000150</td>\n",
       "      <td>0.080488</td>\n",
       "      <td>2.193976</td>\n",
       "      <td>0</td>\n",
       "    </tr>\n",
       "    <tr>\n",
       "      <th>4</th>\n",
       "      <td>1542.765978</td>\n",
       "      <td>82.549309</td>\n",
       "      <td>6814.388335</td>\n",
       "      <td>1544.972897</td>\n",
       "      <td>3.342907</td>\n",
       "      <td>11.552855</td>\n",
       "      <td>0.000006</td>\n",
       "      <td>1.150000e-05</td>\n",
       "      <td>0.000554</td>\n",
       "      <td>0.113709</td>\n",
       "      <td>...</td>\n",
       "      <td>1696.859205</td>\n",
       "      <td>-1.156660</td>\n",
       "      <td>13.846079</td>\n",
       "      <td>0.531</td>\n",
       "      <td>0.000116</td>\n",
       "      <td>5.600000e-05</td>\n",
       "      <td>0.002771</td>\n",
       "      <td>0.719350</td>\n",
       "      <td>5.662841</td>\n",
       "      <td>0</td>\n",
       "    </tr>\n",
       "    <tr>\n",
       "      <th>...</th>\n",
       "      <td>...</td>\n",
       "      <td>...</td>\n",
       "      <td>...</td>\n",
       "      <td>...</td>\n",
       "      <td>...</td>\n",
       "      <td>...</td>\n",
       "      <td>...</td>\n",
       "      <td>...</td>\n",
       "      <td>...</td>\n",
       "      <td>...</td>\n",
       "      <td>...</td>\n",
       "      <td>...</td>\n",
       "      <td>...</td>\n",
       "      <td>...</td>\n",
       "      <td>...</td>\n",
       "      <td>...</td>\n",
       "      <td>...</td>\n",
       "      <td>...</td>\n",
       "      <td>...</td>\n",
       "      <td>...</td>\n",
       "      <td>...</td>\n",
       "    </tr>\n",
       "    <tr>\n",
       "      <th>139</th>\n",
       "      <td>1522.890741</td>\n",
       "      <td>40.977236</td>\n",
       "      <td>1679.133883</td>\n",
       "      <td>1523.441939</td>\n",
       "      <td>0.145769</td>\n",
       "      <td>0.456968</td>\n",
       "      <td>0.000014</td>\n",
       "      <td>5.980000e-06</td>\n",
       "      <td>0.000128</td>\n",
       "      <td>0.044810</td>\n",
       "      <td>...</td>\n",
       "      <td>1708.035715</td>\n",
       "      <td>0.057102</td>\n",
       "      <td>0.405665</td>\n",
       "      <td>0.607</td>\n",
       "      <td>0.000019</td>\n",
       "      <td>7.110000e-07</td>\n",
       "      <td>0.000063</td>\n",
       "      <td>0.052196</td>\n",
       "      <td>2.247720</td>\n",
       "      <td>1</td>\n",
       "    </tr>\n",
       "    <tr>\n",
       "      <th>140</th>\n",
       "      <td>1533.529120</td>\n",
       "      <td>44.528075</td>\n",
       "      <td>1982.749422</td>\n",
       "      <td>1534.175450</td>\n",
       "      <td>0.906501</td>\n",
       "      <td>2.665693</td>\n",
       "      <td>0.000018</td>\n",
       "      <td>7.330000e-06</td>\n",
       "      <td>0.000258</td>\n",
       "      <td>0.061736</td>\n",
       "      <td>...</td>\n",
       "      <td>1715.976015</td>\n",
       "      <td>0.336446</td>\n",
       "      <td>0.296911</td>\n",
       "      <td>0.648</td>\n",
       "      <td>0.000018</td>\n",
       "      <td>1.340000e-06</td>\n",
       "      <td>0.000067</td>\n",
       "      <td>0.050808</td>\n",
       "      <td>2.770498</td>\n",
       "      <td>1</td>\n",
       "    </tr>\n",
       "    <tr>\n",
       "      <th>141</th>\n",
       "      <td>1522.045439</td>\n",
       "      <td>63.738637</td>\n",
       "      <td>4062.613802</td>\n",
       "      <td>1523.379444</td>\n",
       "      <td>0.442848</td>\n",
       "      <td>1.503617</td>\n",
       "      <td>0.000028</td>\n",
       "      <td>1.500000e-05</td>\n",
       "      <td>0.000621</td>\n",
       "      <td>0.123020</td>\n",
       "      <td>...</td>\n",
       "      <td>1712.483259</td>\n",
       "      <td>-0.054101</td>\n",
       "      <td>0.298151</td>\n",
       "      <td>0.665</td>\n",
       "      <td>0.000029</td>\n",
       "      <td>1.470000e-06</td>\n",
       "      <td>0.000080</td>\n",
       "      <td>0.057809</td>\n",
       "      <td>6.391817</td>\n",
       "      <td>1</td>\n",
       "    </tr>\n",
       "    <tr>\n",
       "      <th>142</th>\n",
       "      <td>1531.391667</td>\n",
       "      <td>91.123964</td>\n",
       "      <td>8303.576888</td>\n",
       "      <td>1534.100392</td>\n",
       "      <td>0.025437</td>\n",
       "      <td>0.483279</td>\n",
       "      <td>0.000025</td>\n",
       "      <td>3.860000e-05</td>\n",
       "      <td>0.001814</td>\n",
       "      <td>0.425903</td>\n",
       "      <td>...</td>\n",
       "      <td>1711.449147</td>\n",
       "      <td>0.081828</td>\n",
       "      <td>0.217014</td>\n",
       "      <td>0.657</td>\n",
       "      <td>0.000011</td>\n",
       "      <td>1.780000e-06</td>\n",
       "      <td>0.000088</td>\n",
       "      <td>0.061767</td>\n",
       "      <td>1.328424</td>\n",
       "      <td>1</td>\n",
       "    </tr>\n",
       "    <tr>\n",
       "      <th>143</th>\n",
       "      <td>1506.788842</td>\n",
       "      <td>144.570579</td>\n",
       "      <td>20900.652200</td>\n",
       "      <td>1513.708448</td>\n",
       "      <td>-0.341248</td>\n",
       "      <td>-0.040431</td>\n",
       "      <td>0.000305</td>\n",
       "      <td>1.397310e-04</td>\n",
       "      <td>0.004568</td>\n",
       "      <td>0.806105</td>\n",
       "      <td>...</td>\n",
       "      <td>1703.587785</td>\n",
       "      <td>-1.580511</td>\n",
       "      <td>3.780535</td>\n",
       "      <td>0.669</td>\n",
       "      <td>0.000056</td>\n",
       "      <td>1.140000e-06</td>\n",
       "      <td>0.000074</td>\n",
       "      <td>0.077688</td>\n",
       "      <td>2.733213</td>\n",
       "      <td>1</td>\n",
       "    </tr>\n",
       "  </tbody>\n",
       "</table>\n",
       "<p>144 rows × 37 columns</p>\n",
       "</div>"
      ],
      "text/plain": [
       "            mean         std           var          rms  skewness   kurtosis  \\\n",
       "0    1526.994216    6.334173     40.121743  1527.007353  1.532286   6.735099   \n",
       "1    1522.273291   13.901473    193.250963  1522.336764 -3.194118  16.434917   \n",
       "2    1525.568576    6.765647     45.773985  1525.583578  0.213206   0.796216   \n",
       "3    1526.060395    5.801412     33.656377  1526.071422 -0.000402   0.279051   \n",
       "4    1542.765978   82.549309   6814.388335  1544.972897  3.342907  11.552855   \n",
       "..           ...         ...           ...          ...       ...        ...   \n",
       "139  1522.890741   40.977236   1679.133883  1523.441939  0.145769   0.456968   \n",
       "140  1533.529120   44.528075   1982.749422  1534.175450  0.906501   2.665693   \n",
       "141  1522.045439   63.738637   4062.613802  1523.379444  0.442848   1.503617   \n",
       "142  1531.391667   91.123964   8303.576888  1534.100392  0.025437   0.483279   \n",
       "143  1506.788842  144.570579  20900.652200  1513.708448 -0.341248  -0.040431   \n",
       "\n",
       "        delta         theta     alpha      beta  ...      rms_FC6  \\\n",
       "0    0.000005  2.700000e-07  0.000013  0.010343  ...  1694.527310   \n",
       "1    0.000013  8.120000e-07  0.000034  0.017279  ...  1694.188665   \n",
       "2    0.000011  3.240000e-07  0.000020  0.012457  ...  1695.329671   \n",
       "3    0.000003  2.500000e-07  0.000017  0.010295  ...  1704.352349   \n",
       "4    0.000006  1.150000e-05  0.000554  0.113709  ...  1696.859205   \n",
       "..        ...           ...       ...       ...  ...          ...   \n",
       "139  0.000014  5.980000e-06  0.000128  0.044810  ...  1708.035715   \n",
       "140  0.000018  7.330000e-06  0.000258  0.061736  ...  1715.976015   \n",
       "141  0.000028  1.500000e-05  0.000621  0.123020  ...  1712.483259   \n",
       "142  0.000025  3.860000e-05  0.001814  0.425903  ...  1711.449147   \n",
       "143  0.000305  1.397310e-04  0.004568  0.806105  ...  1703.587785   \n",
       "\n",
       "     skewness_FC6  kurtosis_FC6  entropy_FC6  delta_FC6     theta_FC6  \\\n",
       "0       -0.133614      0.268617        0.789   0.000021  1.510000e-06   \n",
       "1       -1.007230      3.254657        0.708   0.000018  2.520000e-06   \n",
       "2        0.314247      1.788882        0.746   0.000048  3.390000e-06   \n",
       "3        0.074694      1.250499        0.786   0.000022  3.240000e-06   \n",
       "4       -1.156660     13.846079        0.531   0.000116  5.600000e-05   \n",
       "..            ...           ...          ...        ...           ...   \n",
       "139      0.057102      0.405665        0.607   0.000019  7.110000e-07   \n",
       "140      0.336446      0.296911        0.648   0.000018  1.340000e-06   \n",
       "141     -0.054101      0.298151        0.665   0.000029  1.470000e-06   \n",
       "142      0.081828      0.217014        0.657   0.000011  1.780000e-06   \n",
       "143     -1.580511      3.780535        0.669   0.000056  1.140000e-06   \n",
       "\n",
       "     alpha_FC6  beta_FC6  gamma_FC6  outcome  \n",
       "0     0.000118  0.060236   2.185175        0  \n",
       "1     0.000111  0.064383   1.610859        0  \n",
       "2     0.000213  0.123379   2.460791        0  \n",
       "3     0.000150  0.080488   2.193976        0  \n",
       "4     0.002771  0.719350   5.662841        0  \n",
       "..         ...       ...        ...      ...  \n",
       "139   0.000063  0.052196   2.247720        1  \n",
       "140   0.000067  0.050808   2.770498        1  \n",
       "141   0.000080  0.057809   6.391817        1  \n",
       "142   0.000088  0.061767   1.328424        1  \n",
       "143   0.000074  0.077688   2.733213        1  \n",
       "\n",
       "[144 rows x 37 columns]"
      ]
     },
     "execution_count": 3,
     "metadata": {},
     "output_type": "execute_result"
    }
   ],
   "source": [
    "df = pd.read_csv('D:/one drive UA/OneDrive - Universitas Airlangga/SEMESTER 6/ASB/demo/final.csv')\n",
    "df"
   ]
  },
  {
   "cell_type": "markdown",
   "id": "c9a1848f",
   "metadata": {},
   "source": [
    "# **3. Preprocessing**"
   ]
  },
  {
   "cell_type": "code",
   "execution_count": 4,
   "id": "d41e7407",
   "metadata": {},
   "outputs": [
    {
     "data": {
      "text/plain": [
       "1    74\n",
       "0    70\n",
       "Name: outcome, dtype: int64"
      ]
     },
     "execution_count": 4,
     "metadata": {},
     "output_type": "execute_result"
    }
   ],
   "source": [
    "df['outcome'].value_counts()"
   ]
  },
  {
   "cell_type": "code",
   "execution_count": 5,
   "id": "6af56789",
   "metadata": {},
   "outputs": [
    {
     "data": {
      "text/plain": [
       "<AxesSubplot:xlabel='outcome', ylabel='count'>"
      ]
     },
     "execution_count": 5,
     "metadata": {},
     "output_type": "execute_result"
    },
    {
     "data": {
      "image/png": "[encoded data removed]",
      "text/plain": [
       "<Figure size 432x288 with 1 Axes>"
      ]
     },
     "metadata": {
      "needs_background": "light"
     },
     "output_type": "display_data"
    }
   ],
   "source": [
    "sns.countplot(x='outcome',data=df)"
   ]
  },
  {
   "cell_type": "code",
   "execution_count": 6,
   "id": "00b51313",
   "metadata": {},
   "outputs": [],
   "source": [
    "#handling imbalance\n",
    "df_outcome = df['outcome']\n",
    "df_majority = df[(df_outcome == 1)]\n",
    "df_minority = df[(df_outcome == 0)]\n",
    "\n",
    "# upsample minority class\n",
    "df_minority_upsampled = resample(df_minority,\n",
    "                                replace = True,\n",
    "                                n_samples = 74,\n",
    "                                random_state = 1)\n",
    "df = pd.concat([df_minority_upsampled, df_majority])"
   ]
  },
  {
   "cell_type": "code",
   "execution_count": 7,
   "id": "e836ed34",
   "metadata": {},
   "outputs": [
    {
     "data": {
      "image/png": "[encoded data removed]",
      "text/plain": [
       "<Figure size 432x288 with 1 Axes>"
      ]
     },
     "metadata": {
      "needs_background": "light"
     },
     "output_type": "display_data"
    }
   ],
   "source": [
    "\n",
    "sns.countplot(x='outcome', data=df)\n",
    "plt.title('Diagram Label Proporsion (Oversampling)')\n",
    "plt.show() "
   ]
  },
  {
   "cell_type": "code",
   "execution_count": 8,
   "id": "b8a775dc",
   "metadata": {},
   "outputs": [
    {
     "name": "stdout",
     "output_type": "stream",
     "text": [
      "<class 'pandas.core.frame.DataFrame'>\n",
      "Int64Index: 148 entries, 37 to 143\n",
      "Data columns (total 37 columns):\n",
      " #   Column        Non-Null Count  Dtype  \n",
      "---  ------        --------------  -----  \n",
      " 0   mean          148 non-null    float64\n",
      " 1   std           148 non-null    float64\n",
      " 2   var           148 non-null    float64\n",
      " 3   rms           148 non-null    float64\n",
      " 4   skewness      148 non-null    float64\n",
      " 5   kurtosis      148 non-null    float64\n",
      " 6   delta         148 non-null    float64\n",
      " 7   theta         148 non-null    float64\n",
      " 8   alpha         148 non-null    float64\n",
      " 9   beta          148 non-null    float64\n",
      " 10  gamma         148 non-null    float64\n",
      " 11  entropy       148 non-null    float64\n",
      " 12  mean_P7       148 non-null    float64\n",
      " 13  std_P7        148 non-null    float64\n",
      " 14  var_p7        148 non-null    float64\n",
      " 15  rms_P7        148 non-null    float64\n",
      " 16  skewness_P7   148 non-null    float64\n",
      " 17  kurtosis_P7   148 non-null    float64\n",
      " 18  delta_P7      148 non-null    float64\n",
      " 19  theta_P7      148 non-null    float64\n",
      " 20  alpha_P7      148 non-null    float64\n",
      " 21  beta_P7       148 non-null    float64\n",
      " 22  gamma_P7      148 non-null    float64\n",
      " 23  entropy_P7    148 non-null    float64\n",
      " 24  mean_FC6      148 non-null    float64\n",
      " 25  std_FC6       148 non-null    float64\n",
      " 26  var_FC6       148 non-null    float64\n",
      " 27  rms_FC6       148 non-null    float64\n",
      " 28  skewness_FC6  148 non-null    float64\n",
      " 29  kurtosis_FC6  148 non-null    float64\n",
      " 30  entropy_FC6   148 non-null    float64\n",
      " 31  delta_FC6     148 non-null    float64\n",
      " 32  theta_FC6     148 non-null    float64\n",
      " 33  alpha_FC6     148 non-null    float64\n",
      " 34  beta_FC6      148 non-null    float64\n",
      " 35  gamma_FC6     148 non-null    float64\n",
      " 36  outcome       148 non-null    int64  \n",
      "dtypes: float64(36), int64(1)\n",
      "memory usage: 43.9 KB\n"
     ]
    }
   ],
   "source": [
    "df.info()"
   ]
  },
  {
   "cell_type": "code",
   "execution_count": 9,
   "id": "7d4bf954",
   "metadata": {},
   "outputs": [
    {
     "name": "stdout",
     "output_type": "stream",
     "text": [
      "Most Positive Correlations:\n",
      " alpha_P7        0.096504\n",
      "beta_P7         0.098961\n",
      "kurtosis        0.099673\n",
      "skewness        0.104436\n",
      "theta_FC6       0.133023\n",
      "gamma_P7        0.139923\n",
      "var_p7          0.146555\n",
      "alpha_FC6       0.146860\n",
      "var_FC6         0.148076\n",
      "beta_FC6        0.158540\n",
      "std_FC6         0.158955\n",
      "kurtosis_P7     0.163834\n",
      "delta_FC6       0.172776\n",
      "kurtosis_FC6    0.180637\n",
      "delta_P7        0.183608\n",
      "gamma_FC6       0.195033\n",
      "std_P7          0.196082\n",
      "delta           0.217912\n",
      "beta            0.226917\n",
      "alpha           0.227726\n",
      "var             0.232440\n",
      "theta           0.235760\n",
      "gamma           0.239361\n",
      "std             0.246039\n",
      "outcome         1.000000\n",
      "Name: outcome, dtype: float64\n",
      "\n",
      "Most Negative Correlations:\n",
      " entropy_P7     -0.264032\n",
      "entropy        -0.189789\n",
      "entropy_FC6    -0.109253\n",
      "mean           -0.088477\n",
      "mean_FC6       -0.074048\n",
      "rms_FC6        -0.058758\n",
      "rms            -0.053161\n",
      "mean_P7        -0.029063\n",
      "rms_P7         -0.005383\n",
      "skewness_P7     0.047492\n",
      "skewness_FC6    0.093425\n",
      "theta_P7        0.095807\n",
      "alpha_P7        0.096504\n",
      "beta_P7         0.098961\n",
      "kurtosis        0.099673\n",
      "skewness        0.104436\n",
      "theta_FC6       0.133023\n",
      "gamma_P7        0.139923\n",
      "var_p7          0.146555\n",
      "alpha_FC6       0.146860\n",
      "var_FC6         0.148076\n",
      "beta_FC6        0.158540\n",
      "std_FC6         0.158955\n",
      "kurtosis_P7     0.163834\n",
      "delta_FC6       0.172776\n",
      "Name: outcome, dtype: float64\n"
     ]
    }
   ],
   "source": [
    "# Find correlations with the target and sort\n",
    "correlations = df.corr()['outcome'].sort_values()\n",
    "\n",
    "# Display correlations\n",
    "print('Most Positive Correlations:\\n', correlations.tail(25))\n",
    "print('\\nMost Negative Correlations:\\n', correlations.head(25))"
   ]
  },
  {
   "cell_type": "code",
   "execution_count": 10,
   "id": "3e0736c1",
   "metadata": {},
   "outputs": [
    {
     "data": {
      "text/html": [
       "<div>\n",
       "<style scoped>\n",
       "    .dataframe tbody tr th:only-of-type {\n",
       "        vertical-align: middle;\n",
       "    }\n",
       "\n",
       "    .dataframe tbody tr th {\n",
       "        vertical-align: top;\n",
       "    }\n",
       "\n",
       "    .dataframe thead th {\n",
       "        text-align: right;\n",
       "    }\n",
       "</style>\n",
       "<table border=\"1\" class=\"dataframe\">\n",
       "  <thead>\n",
       "    <tr style=\"text-align: right;\">\n",
       "      <th></th>\n",
       "      <th>std</th>\n",
       "      <th>var</th>\n",
       "      <th>delta</th>\n",
       "      <th>theta</th>\n",
       "      <th>alpha</th>\n",
       "      <th>beta</th>\n",
       "      <th>gamma</th>\n",
       "      <th>entropy</th>\n",
       "      <th>std_P7</th>\n",
       "      <th>var_p7</th>\n",
       "      <th>...</th>\n",
       "      <th>entropy_P7</th>\n",
       "      <th>std_FC6</th>\n",
       "      <th>var_FC6</th>\n",
       "      <th>entropy_FC6</th>\n",
       "      <th>delta_FC6</th>\n",
       "      <th>theta_FC6</th>\n",
       "      <th>alpha_FC6</th>\n",
       "      <th>beta_FC6</th>\n",
       "      <th>gamma_FC6</th>\n",
       "      <th>outcome</th>\n",
       "    </tr>\n",
       "  </thead>\n",
       "  <tbody>\n",
       "    <tr>\n",
       "      <th>37</th>\n",
       "      <td>133.081660</td>\n",
       "      <td>17710.728220</td>\n",
       "      <td>0.000004</td>\n",
       "      <td>5.350000e-05</td>\n",
       "      <td>0.002305</td>\n",
       "      <td>0.467486</td>\n",
       "      <td>5.671924</td>\n",
       "      <td>0.450</td>\n",
       "      <td>66.936701</td>\n",
       "      <td>4480.521927</td>\n",
       "      <td>...</td>\n",
       "      <td>0.431</td>\n",
       "      <td>120.735071</td>\n",
       "      <td>14576.957310</td>\n",
       "      <td>0.503</td>\n",
       "      <td>0.000017</td>\n",
       "      <td>4.560000e-05</td>\n",
       "      <td>0.001949</td>\n",
       "      <td>0.508163</td>\n",
       "      <td>7.134264</td>\n",
       "      <td>0</td>\n",
       "    </tr>\n",
       "    <tr>\n",
       "      <th>12</th>\n",
       "      <td>9.063264</td>\n",
       "      <td>82.142757</td>\n",
       "      <td>0.000001</td>\n",
       "      <td>6.660000e-07</td>\n",
       "      <td>0.000025</td>\n",
       "      <td>0.013290</td>\n",
       "      <td>0.405396</td>\n",
       "      <td>0.662</td>\n",
       "      <td>7.277643</td>\n",
       "      <td>52.964089</td>\n",
       "      <td>...</td>\n",
       "      <td>0.741</td>\n",
       "      <td>20.956946</td>\n",
       "      <td>439.193600</td>\n",
       "      <td>0.668</td>\n",
       "      <td>0.000013</td>\n",
       "      <td>2.730000e-06</td>\n",
       "      <td>0.000197</td>\n",
       "      <td>0.072984</td>\n",
       "      <td>2.203462</td>\n",
       "      <td>0</td>\n",
       "    </tr>\n",
       "    <tr>\n",
       "      <th>9</th>\n",
       "      <td>8.307410</td>\n",
       "      <td>69.013065</td>\n",
       "      <td>0.000004</td>\n",
       "      <td>4.360000e-07</td>\n",
       "      <td>0.000029</td>\n",
       "      <td>0.015790</td>\n",
       "      <td>0.490199</td>\n",
       "      <td>0.723</td>\n",
       "      <td>7.872753</td>\n",
       "      <td>61.980244</td>\n",
       "      <td>...</td>\n",
       "      <td>0.755</td>\n",
       "      <td>17.690363</td>\n",
       "      <td>312.948937</td>\n",
       "      <td>0.715</td>\n",
       "      <td>0.000007</td>\n",
       "      <td>2.780000e-06</td>\n",
       "      <td>0.000163</td>\n",
       "      <td>0.083481</td>\n",
       "      <td>2.633372</td>\n",
       "      <td>0</td>\n",
       "    </tr>\n",
       "    <tr>\n",
       "      <th>5</th>\n",
       "      <td>14.936295</td>\n",
       "      <td>223.092912</td>\n",
       "      <td>0.000007</td>\n",
       "      <td>1.220000e-06</td>\n",
       "      <td>0.000060</td>\n",
       "      <td>0.030280</td>\n",
       "      <td>0.585832</td>\n",
       "      <td>0.660</td>\n",
       "      <td>10.652792</td>\n",
       "      <td>113.481982</td>\n",
       "      <td>...</td>\n",
       "      <td>0.680</td>\n",
       "      <td>56.743712</td>\n",
       "      <td>3219.848844</td>\n",
       "      <td>0.534</td>\n",
       "      <td>0.000082</td>\n",
       "      <td>2.110000e-05</td>\n",
       "      <td>0.000730</td>\n",
       "      <td>0.288922</td>\n",
       "      <td>3.860321</td>\n",
       "      <td>0</td>\n",
       "    </tr>\n",
       "    <tr>\n",
       "      <th>64</th>\n",
       "      <td>36.411200</td>\n",
       "      <td>1325.775503</td>\n",
       "      <td>0.000009</td>\n",
       "      <td>1.590000e-06</td>\n",
       "      <td>0.000081</td>\n",
       "      <td>0.028637</td>\n",
       "      <td>0.783694</td>\n",
       "      <td>0.522</td>\n",
       "      <td>17.931004</td>\n",
       "      <td>321.520908</td>\n",
       "      <td>...</td>\n",
       "      <td>0.558</td>\n",
       "      <td>15.764157</td>\n",
       "      <td>248.508650</td>\n",
       "      <td>0.701</td>\n",
       "      <td>0.000018</td>\n",
       "      <td>6.690000e-07</td>\n",
       "      <td>0.000067</td>\n",
       "      <td>0.035770</td>\n",
       "      <td>0.915777</td>\n",
       "      <td>0</td>\n",
       "    </tr>\n",
       "    <tr>\n",
       "      <th>...</th>\n",
       "      <td>...</td>\n",
       "      <td>...</td>\n",
       "      <td>...</td>\n",
       "      <td>...</td>\n",
       "      <td>...</td>\n",
       "      <td>...</td>\n",
       "      <td>...</td>\n",
       "      <td>...</td>\n",
       "      <td>...</td>\n",
       "      <td>...</td>\n",
       "      <td>...</td>\n",
       "      <td>...</td>\n",
       "      <td>...</td>\n",
       "      <td>...</td>\n",
       "      <td>...</td>\n",
       "      <td>...</td>\n",
       "      <td>...</td>\n",
       "      <td>...</td>\n",
       "      <td>...</td>\n",
       "      <td>...</td>\n",
       "      <td>...</td>\n",
       "    </tr>\n",
       "    <tr>\n",
       "      <th>139</th>\n",
       "      <td>40.977236</td>\n",
       "      <td>1679.133883</td>\n",
       "      <td>0.000014</td>\n",
       "      <td>5.980000e-06</td>\n",
       "      <td>0.000128</td>\n",
       "      <td>0.044810</td>\n",
       "      <td>2.783008</td>\n",
       "      <td>0.430</td>\n",
       "      <td>20.258785</td>\n",
       "      <td>410.418381</td>\n",
       "      <td>...</td>\n",
       "      <td>0.505</td>\n",
       "      <td>19.220064</td>\n",
       "      <td>369.410860</td>\n",
       "      <td>0.607</td>\n",
       "      <td>0.000019</td>\n",
       "      <td>7.110000e-07</td>\n",
       "      <td>0.000063</td>\n",
       "      <td>0.052196</td>\n",
       "      <td>2.247720</td>\n",
       "      <td>1</td>\n",
       "    </tr>\n",
       "    <tr>\n",
       "      <th>140</th>\n",
       "      <td>44.528075</td>\n",
       "      <td>1982.749422</td>\n",
       "      <td>0.000018</td>\n",
       "      <td>7.330000e-06</td>\n",
       "      <td>0.000258</td>\n",
       "      <td>0.061736</td>\n",
       "      <td>3.466623</td>\n",
       "      <td>0.479</td>\n",
       "      <td>22.368742</td>\n",
       "      <td>500.360630</td>\n",
       "      <td>...</td>\n",
       "      <td>0.475</td>\n",
       "      <td>21.510768</td>\n",
       "      <td>462.713130</td>\n",
       "      <td>0.648</td>\n",
       "      <td>0.000018</td>\n",
       "      <td>1.340000e-06</td>\n",
       "      <td>0.000067</td>\n",
       "      <td>0.050808</td>\n",
       "      <td>2.770498</td>\n",
       "      <td>1</td>\n",
       "    </tr>\n",
       "    <tr>\n",
       "      <th>141</th>\n",
       "      <td>63.738637</td>\n",
       "      <td>4062.613802</td>\n",
       "      <td>0.000028</td>\n",
       "      <td>1.500000e-05</td>\n",
       "      <td>0.000621</td>\n",
       "      <td>0.123020</td>\n",
       "      <td>3.717860</td>\n",
       "      <td>0.427</td>\n",
       "      <td>22.674557</td>\n",
       "      <td>514.135533</td>\n",
       "      <td>...</td>\n",
       "      <td>0.555</td>\n",
       "      <td>19.968265</td>\n",
       "      <td>398.731596</td>\n",
       "      <td>0.665</td>\n",
       "      <td>0.000029</td>\n",
       "      <td>1.470000e-06</td>\n",
       "      <td>0.000080</td>\n",
       "      <td>0.057809</td>\n",
       "      <td>6.391817</td>\n",
       "      <td>1</td>\n",
       "    </tr>\n",
       "    <tr>\n",
       "      <th>142</th>\n",
       "      <td>91.123964</td>\n",
       "      <td>8303.576888</td>\n",
       "      <td>0.000025</td>\n",
       "      <td>3.860000e-05</td>\n",
       "      <td>0.001814</td>\n",
       "      <td>0.425903</td>\n",
       "      <td>4.262004</td>\n",
       "      <td>0.475</td>\n",
       "      <td>17.478712</td>\n",
       "      <td>305.505377</td>\n",
       "      <td>...</td>\n",
       "      <td>0.533</td>\n",
       "      <td>16.539950</td>\n",
       "      <td>273.569940</td>\n",
       "      <td>0.657</td>\n",
       "      <td>0.000011</td>\n",
       "      <td>1.780000e-06</td>\n",
       "      <td>0.000088</td>\n",
       "      <td>0.061767</td>\n",
       "      <td>1.328424</td>\n",
       "      <td>1</td>\n",
       "    </tr>\n",
       "    <tr>\n",
       "      <th>143</th>\n",
       "      <td>144.570579</td>\n",
       "      <td>20900.652200</td>\n",
       "      <td>0.000305</td>\n",
       "      <td>1.397310e-04</td>\n",
       "      <td>0.004568</td>\n",
       "      <td>0.806105</td>\n",
       "      <td>9.849757</td>\n",
       "      <td>0.506</td>\n",
       "      <td>24.906521</td>\n",
       "      <td>620.334765</td>\n",
       "      <td>...</td>\n",
       "      <td>0.549</td>\n",
       "      <td>26.594958</td>\n",
       "      <td>707.291791</td>\n",
       "      <td>0.669</td>\n",
       "      <td>0.000056</td>\n",
       "      <td>1.140000e-06</td>\n",
       "      <td>0.000074</td>\n",
       "      <td>0.077688</td>\n",
       "      <td>2.733213</td>\n",
       "      <td>1</td>\n",
       "    </tr>\n",
       "  </tbody>\n",
       "</table>\n",
       "<p>148 rows × 25 columns</p>\n",
       "</div>"
      ],
      "text/plain": [
       "            std           var     delta         theta     alpha      beta  \\\n",
       "37   133.081660  17710.728220  0.000004  5.350000e-05  0.002305  0.467486   \n",
       "12     9.063264     82.142757  0.000001  6.660000e-07  0.000025  0.013290   \n",
       "9      8.307410     69.013065  0.000004  4.360000e-07  0.000029  0.015790   \n",
       "5     14.936295    223.092912  0.000007  1.220000e-06  0.000060  0.030280   \n",
       "64    36.411200   1325.775503  0.000009  1.590000e-06  0.000081  0.028637   \n",
       "..          ...           ...       ...           ...       ...       ...   \n",
       "139   40.977236   1679.133883  0.000014  5.980000e-06  0.000128  0.044810   \n",
       "140   44.528075   1982.749422  0.000018  7.330000e-06  0.000258  0.061736   \n",
       "141   63.738637   4062.613802  0.000028  1.500000e-05  0.000621  0.123020   \n",
       "142   91.123964   8303.576888  0.000025  3.860000e-05  0.001814  0.425903   \n",
       "143  144.570579  20900.652200  0.000305  1.397310e-04  0.004568  0.806105   \n",
       "\n",
       "        gamma  entropy     std_P7       var_p7  ...  entropy_P7     std_FC6  \\\n",
       "37   5.671924    0.450  66.936701  4480.521927  ...       0.431  120.735071   \n",
       "12   0.405396    0.662   7.277643    52.964089  ...       0.741   20.956946   \n",
       "9    0.490199    0.723   7.872753    61.980244  ...       0.755   17.690363   \n",
       "5    0.585832    0.660  10.652792   113.481982  ...       0.680   56.743712   \n",
       "64   0.783694    0.522  17.931004   321.520908  ...       0.558   15.764157   \n",
       "..        ...      ...        ...          ...  ...         ...         ...   \n",
       "139  2.783008    0.430  20.258785   410.418381  ...       0.505   19.220064   \n",
       "140  3.466623    0.479  22.368742   500.360630  ...       0.475   21.510768   \n",
       "141  3.717860    0.427  22.674557   514.135533  ...       0.555   19.968265   \n",
       "142  4.262004    0.475  17.478712   305.505377  ...       0.533   16.539950   \n",
       "143  9.849757    0.506  24.906521   620.334765  ...       0.549   26.594958   \n",
       "\n",
       "          var_FC6  entropy_FC6  delta_FC6     theta_FC6  alpha_FC6  beta_FC6  \\\n",
       "37   14576.957310        0.503   0.000017  4.560000e-05   0.001949  0.508163   \n",
       "12     439.193600        0.668   0.000013  2.730000e-06   0.000197  0.072984   \n",
       "9      312.948937        0.715   0.000007  2.780000e-06   0.000163  0.083481   \n",
       "5     3219.848844        0.534   0.000082  2.110000e-05   0.000730  0.288922   \n",
       "64     248.508650        0.701   0.000018  6.690000e-07   0.000067  0.035770   \n",
       "..            ...          ...        ...           ...        ...       ...   \n",
       "139    369.410860        0.607   0.000019  7.110000e-07   0.000063  0.052196   \n",
       "140    462.713130        0.648   0.000018  1.340000e-06   0.000067  0.050808   \n",
       "141    398.731596        0.665   0.000029  1.470000e-06   0.000080  0.057809   \n",
       "142    273.569940        0.657   0.000011  1.780000e-06   0.000088  0.061767   \n",
       "143    707.291791        0.669   0.000056  1.140000e-06   0.000074  0.077688   \n",
       "\n",
       "     gamma_FC6  outcome  \n",
       "37    7.134264        0  \n",
       "12    2.203462        0  \n",
       "9     2.633372        0  \n",
       "5     3.860321        0  \n",
       "64    0.915777        0  \n",
       "..         ...      ...  \n",
       "139   2.247720        1  \n",
       "140   2.770498        1  \n",
       "141   6.391817        1  \n",
       "142   1.328424        1  \n",
       "143   2.733213        1  \n",
       "\n",
       "[148 rows x 25 columns]"
      ]
     },
     "execution_count": 10,
     "metadata": {},
     "output_type": "execute_result"
    }
   ],
   "source": [
    "# Define the columns to drop\n",
    "columns_to_drop = ['rms','kurtosis','skewness','mean','skewness_P7','rms_P7','mean_P7','kurtosis_P7','rms_FC6','kurtosis_FC6','skewness_FC6','mean_FC6']\n",
    "\n",
    "# Drop the specified columns\n",
    "df1 = df.drop(columns=columns_to_drop)\n",
    "df1"
   ]
  },
  {
   "cell_type": "markdown",
   "id": "977a9381",
   "metadata": {},
   "source": [
    "# **4. Splitting Data**"
   ]
  },
  {
   "cell_type": "code",
   "execution_count": 11,
   "id": "8acbfb25",
   "metadata": {},
   "outputs": [],
   "source": [
    "X = df1.loc[:, df1.columns != 'outcome']\n",
    "y = df1['outcome']"
   ]
  },
  {
   "cell_type": "code",
   "execution_count": 12,
   "id": "3990e68e",
   "metadata": {},
   "outputs": [],
   "source": [
    "# X = df.loc[:, df.columns != 'outcome']\n",
    "# y = df['outcome']"
   ]
  },
  {
   "cell_type": "code",
   "execution_count": 13,
   "id": "614b91f5",
   "metadata": {},
   "outputs": [
    {
     "name": "stdout",
     "output_type": "stream",
     "text": [
      "(45, 24)\n",
      "(103, 24)\n",
      "(103,)\n",
      "(45,)\n"
     ]
    }
   ],
   "source": [
    "# splitting X and y into training and testing sets (pake proporsi 70 30)\n",
    "X_train, X_test, y_train, y_test = train_test_split(X, y, test_size = 0.3, random_state = 1)\n",
    "# print(X_train.shape, X_test.shape, y_train.shape, y_test.shape)\n",
    "print(X_test.shape)\n",
    "print(X_train.shape)\n",
    "print(y_train.shape)\n",
    "print(y_test.shape)"
   ]
  },
  {
   "cell_type": "markdown",
   "id": "65ca1eff",
   "metadata": {},
   "source": [
    "# **5. Modeling**"
   ]
  },
  {
   "cell_type": "markdown",
   "id": "656d634b",
   "metadata": {},
   "source": [
    "## **5.1. Decision Tree**"
   ]
  },
  {
   "cell_type": "code",
   "execution_count": 26,
   "id": "5e1f14da",
   "metadata": {},
   "outputs": [],
   "source": [
    "# using decision tree\n",
    "dt = DecisionTreeClassifier(random_state =25)\n",
    "dt = dt.fit(X_train, y_train)\n",
    "\n",
    "y_dt_test = dt.predict(X_test)\n",
    "y_dt_train=dt.predict(X_train)\n",
    "y_dt_proba= dt.predict_proba(X_test)\n"
   ]
  },
  {
   "cell_type": "markdown",
   "id": "97286de2",
   "metadata": {},
   "source": [
    "### **5.1.1 Evaluation of Decision Tree**"
   ]
  },
  {
   "cell_type": "code",
   "execution_count": 27,
   "id": "94be6270",
   "metadata": {},
   "outputs": [
    {
     "name": "stdout",
     "output_type": "stream",
     "text": [
      "              precision    recall  f1-score   support\n",
      "\n",
      "           0       0.81      0.71      0.76        24\n",
      "           1       0.71      0.81      0.76        21\n",
      "\n",
      "    accuracy                           0.76        45\n",
      "   macro avg       0.76      0.76      0.76        45\n",
      "weighted avg       0.76      0.76      0.76        45\n",
      "\n",
      "[[17  7]\n",
      " [ 4 17]]\n",
      "              precision    recall  f1-score   support\n",
      "\n",
      "           0       1.00      1.00      1.00        50\n",
      "           1       1.00      1.00      1.00        53\n",
      "\n",
      "    accuracy                           1.00       103\n",
      "   macro avg       1.00      1.00      1.00       103\n",
      "weighted avg       1.00      1.00      1.00       103\n",
      "\n",
      "[[50  0]\n",
      " [ 0 53]]\n"
     ]
    }
   ],
   "source": [
    "print(classification_report(y_test, y_dt_test))\n",
    "print(confusion_matrix(y_test, y_dt_test))\n",
    "\n",
    "print (classification_report(y_train,y_dt_train))\n",
    "print(confusion_matrix(y_train, y_dt_train))"
   ]
  },
  {
   "cell_type": "code",
   "execution_count": 15,
   "id": "f4f403de",
   "metadata": {},
   "outputs": [
    {
     "name": "stdout",
     "output_type": "stream",
     "text": [
      "Accuracy: 0.7555555555555555\n"
     ]
    }
   ],
   "source": [
    "accuracy = accuracy_score(y_test, y_dt_test)\n",
    "print(\"Accuracy:\", accuracy)"
   ]
  },
  {
   "cell_type": "code",
   "execution_count": 16,
   "id": "e5f248ff",
   "metadata": {},
   "outputs": [
    {
     "data": {
      "image/png": "[encoded data removed]",
      "text/plain": [
       "<Figure size 432x288 with 2 Axes>"
      ]
     },
     "metadata": {
      "needs_background": "light"
     },
     "output_type": "display_data"
    }
   ],
   "source": [
    "\n",
    "confusion_matrix_app = pd.DataFrame((confusion_matrix(y_train, y_dt_train)), ('No', 'Yes'), ('No', 'Yes'))\n",
    "\n",
    "# plot confusion matrix\n",
    "plt.figure()\n",
    "heatmap = sns.heatmap(confusion_matrix_app, annot=True, annot_kws={'size':14}, fmt='d', cmap='YlGnBu')\n",
    "heatmap.yaxis.set_ticklabels(heatmap.yaxis.get_ticklabels(), rotation=0, ha='right', fontsize=14)\n",
    "heatmap.xaxis.set_ticklabels(heatmap.xaxis.get_ticklabels(), rotation=0, ha='right', fontsize=14)\n",
    "\n",
    "plt.title('Confusion Matrix for Training Model\\n', fontsize=18, color='darkblue')\n",
    "plt.ylabel('True label', fontsize=14)\n",
    "plt.xlabel('Predicted label', fontsize = 14)\n",
    "plt.show()"
   ]
  },
  {
   "cell_type": "code",
   "execution_count": 17,
   "id": "7234f837",
   "metadata": {},
   "outputs": [
    {
     "data": {
      "image/png": "[encoded data removed]",
      "text/plain": [
       "<Figure size 432x288 with 2 Axes>"
      ]
     },
     "metadata": {
      "needs_background": "light"
     },
     "output_type": "display_data"
    }
   ],
   "source": [
    "confusion_matrix_app = pd.DataFrame((confusion_matrix(y_test, y_dt_test)), ('No', 'Yes'), ('No', 'Yes'))\n",
    "# plot confusion matrix\n",
    "plt.figure()\n",
    "heatmap = sns.heatmap(confusion_matrix_app, annot=True, annot_kws={'size':14}, fmt='d', cmap='YlGnBu')\n",
    "heatmap.yaxis.set_ticklabels(heatmap.yaxis.get_ticklabels(), rotation=0, ha='right', fontsize=14)\n",
    "heatmap.xaxis.set_ticklabels(heatmap.xaxis.get_ticklabels(), rotation=0, ha='right', fontsize=14)\n",
    "\n",
    "plt.title('Confusion Matrix for Decision Tree Testing Model\\n', fontsize=18, color='darkblue')\n",
    "plt.ylabel('True label', fontsize=14)\n",
    "plt.xlabel('Predicted label', fontsize = 14)\n",
    "plt.show()"
   ]
  },
  {
   "cell_type": "markdown",
   "id": "0aba087e",
   "metadata": {},
   "source": [
    "## **5.2. Random Forest**"
   ]
  },
  {
   "cell_type": "code",
   "execution_count": 28,
   "id": "0fed558a",
   "metadata": {},
   "outputs": [],
   "source": [
    "# random forest\n",
    "rf = RandomForestClassifier(random_state= 38,\n",
    "                            n_estimators =30,\n",
    "                            max_depth = None,\n",
    "                            min_samples_split=2,\n",
    "                            min_samples_leaf=1,\n",
    "                            oob_score = True)\n",
    "rf = rf.fit(X_train, y_train)\n",
    "y_rf_test = rf.predict(X_test)\n",
    "y_rf_proba= rf.predict_proba(X_test)\n",
    "y_rf_train = rf.predict(X_train)\n",
    "\n"
   ]
  },
  {
   "cell_type": "markdown",
   "id": "0e9f0fdd",
   "metadata": {},
   "source": [
    "### **5.2.1 Evaluation of Random Forest**"
   ]
  },
  {
   "cell_type": "code",
   "execution_count": 29,
   "id": "5f16b3fa",
   "metadata": {},
   "outputs": [
    {
     "name": "stdout",
     "output_type": "stream",
     "text": [
      "              precision    recall  f1-score   support\n",
      "\n",
      "           0       0.86      0.79      0.83        24\n",
      "           1       0.78      0.86      0.82        21\n",
      "\n",
      "    accuracy                           0.82        45\n",
      "   macro avg       0.82      0.82      0.82        45\n",
      "weighted avg       0.83      0.82      0.82        45\n",
      "\n",
      "[[19  5]\n",
      " [ 3 18]]\n",
      "              precision    recall  f1-score   support\n",
      "\n",
      "           0       1.00      1.00      1.00        50\n",
      "           1       1.00      1.00      1.00        53\n",
      "\n",
      "    accuracy                           1.00       103\n",
      "   macro avg       1.00      1.00      1.00       103\n",
      "weighted avg       1.00      1.00      1.00       103\n",
      "\n",
      "[[50  0]\n",
      " [ 0 53]]\n"
     ]
    }
   ],
   "source": [
    "print(classification_report(y_test, y_rf_test))\n",
    "print(confusion_matrix(y_test, y_rf_test))\n",
    "\n",
    "print(classification_report(y_train, y_rf_train))\n",
    "print(confusion_matrix(y_train, y_rf_train))"
   ]
  },
  {
   "cell_type": "code",
   "execution_count": 19,
   "id": "6e995b10",
   "metadata": {},
   "outputs": [
    {
     "name": "stdout",
     "output_type": "stream",
     "text": [
      "Accuracy: 0.8222222222222222\n"
     ]
    }
   ],
   "source": [
    "accuracy = accuracy_score(y_test, y_rf_test)\n",
    "print(\"Accuracy:\", accuracy)"
   ]
  },
  {
   "cell_type": "code",
   "execution_count": 20,
   "id": "4e22500a",
   "metadata": {},
   "outputs": [
    {
     "data": {
      "image/png": "[encoded data removed]",
      "text/plain": [
       "<Figure size 432x288 with 2 Axes>"
      ]
     },
     "metadata": {
      "needs_background": "light"
     },
     "output_type": "display_data"
    }
   ],
   "source": [
    "confusion_matrix_app = pd.DataFrame((confusion_matrix(y_train, y_rf_train)), ('No', 'Yes'), ('No', 'Yes'))\n",
    "\n",
    "# plot confusion matrix\n",
    "plt.figure()\n",
    "heatmap = sns.heatmap(confusion_matrix_app, annot=True, annot_kws={'size':14}, fmt='d', cmap='YlGnBu')\n",
    "heatmap.yaxis.set_ticklabels(heatmap.yaxis.get_ticklabels(), rotation=0, ha='right', fontsize=14)\n",
    "heatmap.xaxis.set_ticklabels(heatmap.xaxis.get_ticklabels(), rotation=0, ha='right', fontsize=14)\n",
    "\n",
    "plt.title('Confusion Matrix for Training Model\\n', fontsize=18, color='darkblue')\n",
    "plt.ylabel('True label', fontsize=14)\n",
    "plt.xlabel('Predicted label', fontsize = 14)\n",
    "plt.show()"
   ]
  },
  {
   "cell_type": "code",
   "execution_count": 21,
   "id": "3d3c1a5e",
   "metadata": {},
   "outputs": [
    {
     "data": {
      "image/png": "[encoded data removed]",
      "text/plain": [
       "<Figure size 432x288 with 2 Axes>"
      ]
     },
     "metadata": {
      "needs_background": "light"
     },
     "output_type": "display_data"
    }
   ],
   "source": [
    "confusion_matrix_app = pd.DataFrame((confusion_matrix(y_test, y_rf_test)), ('No', 'Yes'), ('No', 'Yes'))\n",
    "\n",
    "# plot confusion matrix\n",
    "plt.figure()\n",
    "heatmap = sns.heatmap(confusion_matrix_app, annot=True, annot_kws={'size':14}, fmt='d', cmap='YlGnBu')\n",
    "heatmap.yaxis.set_ticklabels(heatmap.yaxis.get_ticklabels(), rotation=0, ha='right', fontsize=14)\n",
    "heatmap.xaxis.set_ticklabels(heatmap.xaxis.get_ticklabels(), rotation=0, ha='right', fontsize=14)\n",
    "\n",
    "plt.title('Confusion Matrix for Random Forest Testing Model\\n', fontsize=18, color='darkblue')\n",
    "plt.ylabel('True label', fontsize=14)\n",
    "plt.xlabel('Predicted label', fontsize = 14)\n",
    "plt.show()"
   ]
  },
  {
   "cell_type": "markdown",
   "id": "54fcb9cf",
   "metadata": {},
   "source": [
    "## **5.3. XGBoost**"
   ]
  },
  {
   "cell_type": "code",
   "execution_count": 30,
   "id": "ed5db88c",
   "metadata": {},
   "outputs": [],
   "source": [
    "# Initialize XGBClassifier\n",
    "model = XGBClassifier(\n",
    "    max_depth=20, \n",
    "    min_child_weight =0.5,\n",
    "    eta =0.4,\n",
    "    scale_pos_weight=1,\n",
    "    subsample=0.9,\n",
    "    colsample_bytree=0.4,\n",
    "    seed=54\n",
    ")\n",
    "# max-depth,min_child_weight,eta,scale_pos_weight\n",
    "\n",
    "# Train XGBClassifier model\n",
    "model.fit(X_train, y_train)\n",
    "\n",
    "# Predict on test data\n",
    "y_xg_test = model.predict(X_test)\n",
    "y_xg_train = model.predict(X_train)\n",
    "y_xg_proba = model.predict_proba(X_test)\n"
   ]
  },
  {
   "cell_type": "markdown",
   "id": "39e3fc85",
   "metadata": {},
   "source": [
    "### **5.3.1 Evaluation of XGBoost**"
   ]
  },
  {
   "cell_type": "code",
   "execution_count": 31,
   "id": "2b4555d4",
   "metadata": {},
   "outputs": [
    {
     "name": "stdout",
     "output_type": "stream",
     "text": [
      "              precision    recall  f1-score   support\n",
      "\n",
      "           0       0.95      0.79      0.86        24\n",
      "           1       0.80      0.95      0.87        21\n",
      "\n",
      "    accuracy                           0.87        45\n",
      "   macro avg       0.88      0.87      0.87        45\n",
      "weighted avg       0.88      0.87      0.87        45\n",
      "\n",
      "[[19  5]\n",
      " [ 1 20]]\n",
      "              precision    recall  f1-score   support\n",
      "\n",
      "           0       1.00      1.00      1.00        50\n",
      "           1       1.00      1.00      1.00        53\n",
      "\n",
      "    accuracy                           1.00       103\n",
      "   macro avg       1.00      1.00      1.00       103\n",
      "weighted avg       1.00      1.00      1.00       103\n",
      "\n",
      "[[50  0]\n",
      " [ 0 53]]\n"
     ]
    }
   ],
   "source": [
    "print(classification_report(y_test, y_xg_test))\n",
    "print(confusion_matrix(y_test, y_xg_test))\n",
    "\n",
    "print(classification_report(y_train, y_xg_train))\n",
    "print(confusion_matrix(y_train, y_xg_train))"
   ]
  },
  {
   "cell_type": "code",
   "execution_count": 23,
   "id": "e7448861",
   "metadata": {},
   "outputs": [
    {
     "data": {
      "image/png": "[encoded data removed]",
      "text/plain": [
       "<Figure size 432x288 with 2 Axes>"
      ]
     },
     "metadata": {
      "needs_background": "light"
     },
     "output_type": "display_data"
    }
   ],
   "source": [
    "confusion_matrix_app = pd.DataFrame((confusion_matrix(y_train, y_xg_train)), ('No', 'Yes'), ('No', 'Yes'))\n",
    "\n",
    "# plot confusion matrix\n",
    "plt.figure()\n",
    "heatmap = sns.heatmap(confusion_matrix_app, annot=True, annot_kws={'size':14}, fmt='d', cmap='YlGnBu')\n",
    "heatmap.yaxis.set_ticklabels(heatmap.yaxis.get_ticklabels(), rotation=0, ha='right', fontsize=14)\n",
    "heatmap.xaxis.set_ticklabels(heatmap.xaxis.get_ticklabels(), rotation=0, ha='right', fontsize=14)\n",
    "\n",
    "plt.title('Confusion Matrix for Training Model\\n', fontsize=18, color='darkblue')\n",
    "plt.ylabel('True label', fontsize=14)\n",
    "plt.xlabel('Predicted label', fontsize = 14)\n",
    "plt.show()"
   ]
  },
  {
   "cell_type": "code",
   "execution_count": 24,
   "id": "0d34682a",
   "metadata": {},
   "outputs": [
    {
     "data": {
      "image/png": "[encoded data removed]",
      "text/plain": [
       "<Figure size 432x288 with 2 Axes>"
      ]
     },
     "metadata": {
      "needs_background": "light"
     },
     "output_type": "display_data"
    }
   ],
   "source": [
    "confusion_matrix_app = pd.DataFrame((confusion_matrix(y_test, y_xg_test)), ('No', 'Yes'), ('No', 'Yes'))\n",
    "# plot confusion matrix\n",
    "plt.figure()\n",
    "heatmap = sns.heatmap(confusion_matrix_app, annot=True, annot_kws={'size':14}, fmt='d', cmap='YlGnBu')\n",
    "heatmap.yaxis.set_ticklabels(heatmap.yaxis.get_ticklabels(), rotation=0, ha='right', fontsize=14)\n",
    "heatmap.xaxis.set_ticklabels(heatmap.xaxis.get_ticklabels(), rotation=0, ha='right', fontsize=14)\n",
    "\n",
    "plt.title('Confusion Matrix for XGBoost Testing Model\\n', fontsize=18, color='darkblue')\n",
    "plt.ylabel('True label', fontsize=14)\n",
    "plt.xlabel('Predicted label', fontsize = 14)\n",
    "plt.show()"
   ]
  },
  {
   "cell_type": "markdown",
   "id": "bc6ffd1b",
   "metadata": {},
   "source": [
    "## **5.4 ROC Curve**"
   ]
  },
  {
   "cell_type": "code",
   "execution_count": 25,
   "id": "df3995c1",
   "metadata": {},
   "outputs": [
    {
     "data": {
      "image/png": "[encoded data removed]",
      "text/plain": [
       "<Figure size 432x288 with 1 Axes>"
      ]
     },
     "metadata": {
      "needs_background": "light"
     },
     "output_type": "display_data"
    }
   ],
   "source": [
    "# Get predicted probabilities for each model\n",
    "y_rf_proba = rf.predict_proba(X_test)[:, 1]\n",
    "y_dt_proba = dt.predict_proba(X_test)[:, 1]\n",
    "y_xg_proba = model.predict_proba(X_test)[:, 1]\n",
    "# y_rf_auto_proba = rf_auto.predict_proba(X_test)[:, 1]\n",
    "\n",
    "# Compute the ROC curve and AUC score for each model\n",
    "fpr_rf, tpr_rf, thresholds_rf = roc_curve(y_test, y_rf_proba)\n",
    "roc_auc_rf = roc_auc_score(y_test, y_rf_proba)\n",
    "\n",
    "fpr_dt, tpr_dt, thresholds_dt = roc_curve(y_test, y_dt_proba)\n",
    "roc_auc_dt = roc_auc_score(y_test, y_dt_proba)\n",
    "\n",
    "fpr_xg, tpr_xg, thresholds_xg = roc_curve(y_test, y_xg_proba)\n",
    "roc_auc_xg = roc_auc_score(y_test, y_xg_proba)\n",
    "\n",
    "# fpr_rf_auto, tpr_rf_auto, thresholds_rf_auto = roc_curve(y_test, y_rf_auto_proba)\n",
    "# roc_auc_rf_auto = roc_auc_score(y_test, y_rf_auto_proba)\n",
    "\n",
    "# Plot the ROC curves\n",
    "plt.plot(fpr_rf, tpr_rf, color='green', label='Random Forest (area = %0.2f)' % roc_auc_rf)\n",
    "plt.plot(fpr_dt, tpr_dt, color='red', label='Decision Tree(area = %0.2f)' % roc_auc_dt)\n",
    "plt.plot(fpr_xg, tpr_xg, color='blue', label='XGBoost(area = %0.2f)' % roc_auc_xg)\n",
    "# plt.plot(fpr_rf_auto, tpr_rf_auto, color='purple', label='Random Forest Auto(area = %0.2f)' % roc_auc_rf_auto)\n",
    "plt.plot([0, 1], [0, 1], color='orange', lw=2, linestyle='--')\n",
    "plt.xlim([0.0, 1.0])\n",
    "plt.ylim([0.0, 1.05])\n",
    "plt.xlabel('False Positive Rate')\n",
    "plt.ylabel('True Positive Rate')\n",
    "plt.title('ROC Curves for Different Models')\n",
    "plt.legend(loc=\"lower right\")\n",
    "plt.show()\n"
   ]
  }
 ],
 "metadata": {
  "kernelspec": {
   "display_name": "Python 3 (ipykernel)",
   "language": "python",
   "name": "python3"
  },
  "language_info": {
   "codemirror_mode": {
    "name": "ipython",
    "version": 3
   },
   "file_extension": ".py",
   "mimetype": "text/x-python",
   "name": "python",
   "nbconvert_exporter": "python",
   "pygments_lexer": "ipython3",
   "version": "3.9.12"
  }
 },
 "nbformat": 4,
 "nbformat_minor": 5
}
